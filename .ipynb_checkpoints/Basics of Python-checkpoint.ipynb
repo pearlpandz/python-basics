{
 "cells": [
  {
   "cell_type": "markdown",
   "metadata": {},
   "source": [
    "# Data Types\n",
    "\n",
    "- bool    : True / False\n",
    "- int     : signed integer types, ie., 2, -3, -19, 5698\n",
    "- float   : signed float types, ie., 0.34, -19.45, 645.980\n",
    "- complex : 4+5j\n",
    "- time    : Date/time type"
   ]
  },
  {
   "cell_type": "markdown",
   "metadata": {},
   "source": [
    "# type() \n",
    "\n",
    "This method is default one, \n",
    "- It used for finding type of that data. There plenty of examples mentioned below\n",
    "- python having the auto type casting feature\n",
    "\n"
   ]
  },
  {
   "cell_type": "code",
   "execution_count": null,
   "metadata": {},
   "outputs": [],
   "source": [
    "type(2)"
   ]
  },
  {
   "cell_type": "code",
   "execution_count": null,
   "metadata": {},
   "outputs": [],
   "source": [
    "type(2.9)"
   ]
  },
  {
   "cell_type": "code",
   "execution_count": null,
   "metadata": {},
   "outputs": [],
   "source": [
    "type(4+5j)"
   ]
  },
  {
   "cell_type": "code",
   "execution_count": null,
   "metadata": {},
   "outputs": [],
   "source": [
    "type(True)"
   ]
  },
  {
   "cell_type": "code",
   "execution_count": null,
   "metadata": {},
   "outputs": [],
   "source": [
    "type('test')"
   ]
  },
  {
   "cell_type": "markdown",
   "metadata": {},
   "source": [
    "# datatime() Library"
   ]
  },
  {
   "cell_type": "code",
   "execution_count": null,
   "metadata": {},
   "outputs": [],
   "source": [
    "#import date subpackage from datetime package\n",
    "from datetime import date \n",
    "\n",
    "#import datetime subpackage from datetime package\n",
    "from datetime import datetime as date_time \n",
    "\n",
    "#getting today date\n",
    "date.today() "
   ]
  },
  {
   "cell_type": "code",
   "execution_count": null,
   "metadata": {},
   "outputs": [],
   "source": [
    "#getting today date and time\n",
    "date_time.now() "
   ]
  },
  {
   "cell_type": "code",
   "execution_count": null,
   "metadata": {},
   "outputs": [],
   "source": [
    "my_dob = date(1994, 4, 17)\n",
    "\n",
    "# find date difference from my date of birth\n",
    "print( date.today() - my_dob )"
   ]
  },
  {
   "cell_type": "code",
   "execution_count": null,
   "metadata": {},
   "outputs": [],
   "source": [
    "#No.of.days add to specific date and get exact date after that days\n",
    "\n",
    "my_dob + datetime.timedelta(days=9253) # 9253 days add with my birthday"
   ]
  },
  {
   "cell_type": "markdown",
   "metadata": {},
   "source": [
    "# Math Operators"
   ]
  },
  {
   "cell_type": "code",
   "execution_count": null,
   "metadata": {},
   "outputs": [],
   "source": [
    "#addition\n",
    "10 + 4"
   ]
  },
  {
   "cell_type": "code",
   "execution_count": null,
   "metadata": {},
   "outputs": [],
   "source": [
    "#subtraction\n",
    "10 - 4"
   ]
  },
  {
   "cell_type": "code",
   "execution_count": null,
   "metadata": {},
   "outputs": [],
   "source": [
    "#muliplication\n",
    "10 * 4"
   ]
  },
  {
   "cell_type": "code",
   "execution_count": null,
   "metadata": {},
   "outputs": [],
   "source": [
    "#divison\n",
    "10 / 4"
   ]
  },
  {
   "cell_type": "code",
   "execution_count": null,
   "metadata": {},
   "outputs": [],
   "source": [
    "#remainder\n",
    "10 % 4"
   ]
  },
  {
   "cell_type": "code",
   "execution_count": null,
   "metadata": {},
   "outputs": [],
   "source": [
    "#quotient\n",
    "10 // 4"
   ]
  },
  {
   "cell_type": "code",
   "execution_count": null,
   "metadata": {},
   "outputs": [],
   "source": [
    "#power\n",
    "10 ** 4"
   ]
  },
  {
   "cell_type": "markdown",
   "metadata": {},
   "source": [
    "# Type Casting\n",
    "\n",
    "Which means operation can possible between different data dypes. like.,\n",
    "\n",
    "Below mentioned things are auto type casting,\n",
    "- addition of int, float\n",
    "- subtraction of int, float\n",
    "- multiplication of int, float\n",
    "- division of int, float\n",
    "\n",
    "Below mentioned things are manual type casting\n",
    "- addition of int or float, string\n",
    "- subtraction of int or float, string\n",
    "- multiplication of int or float, string\n",
    "- division of int or float, string\n"
   ]
  },
  {
   "cell_type": "markdown",
   "metadata": {},
   "source": [
    "# Auto Typecasting"
   ]
  },
  {
   "cell_type": "code",
   "execution_count": null,
   "metadata": {},
   "outputs": [],
   "source": [
    "5 + 2.5"
   ]
  },
  {
   "cell_type": "code",
   "execution_count": null,
   "metadata": {},
   "outputs": [],
   "source": [
    "5 - 2.5"
   ]
  },
  {
   "cell_type": "code",
   "execution_count": null,
   "metadata": {},
   "outputs": [],
   "source": [
    "5 * 2.5"
   ]
  },
  {
   "cell_type": "code",
   "execution_count": null,
   "metadata": {},
   "outputs": [],
   "source": [
    "5 / 2.5"
   ]
  },
  {
   "cell_type": "code",
   "execution_count": null,
   "metadata": {},
   "outputs": [],
   "source": [
    "5 // 2.5"
   ]
  },
  {
   "cell_type": "code",
   "execution_count": null,
   "metadata": {},
   "outputs": [],
   "source": [
    "5 % 2.5"
   ]
  },
  {
   "cell_type": "code",
   "execution_count": null,
   "metadata": {},
   "outputs": [],
   "source": [
    "5 ** 2.5"
   ]
  },
  {
   "cell_type": "markdown",
   "metadata": {},
   "source": [
    "# Manual Typecasting"
   ]
  },
  {
   "cell_type": "code",
   "execution_count": null,
   "metadata": {},
   "outputs": [],
   "source": [
    "int(5.2) + int('3')"
   ]
  },
  {
   "cell_type": "code",
   "execution_count": null,
   "metadata": {},
   "outputs": [],
   "source": [
    "str('34') + ' hello'"
   ]
  },
  {
   "cell_type": "code",
   "execution_count": null,
   "metadata": {},
   "outputs": [],
   "source": [
    "str('34.5') + ' hi'"
   ]
  },
  {
   "cell_type": "markdown",
   "metadata": {},
   "source": [
    "# Logical Operator"
   ]
  },
  {
   "cell_type": "raw",
   "metadata": {},
   "source": [
    "In general, Logical Operators return boolean values by default\n",
    "- > Greater than?\n",
    "- < Less than?\n",
    "- >= Greater than or equal to?\n",
    "- <= Less than or equal to?\n",
    "- != NOT equal to?\n",
    "- == is equal to?"
   ]
  },
  {
   "cell_type": "code",
   "execution_count": null,
   "metadata": {},
   "outputs": [],
   "source": [
    "print( 5 > 6 )\n",
    "print( 5 < 6 )\n",
    "print( 5 >= 6 )\n",
    "print( 5 <= 6 )\n",
    "print( 5 != 6 )\n",
    "print( 5 == 6 )"
   ]
  },
  {
   "cell_type": "markdown",
   "metadata": {},
   "source": [
    "# Comparision Operator\n",
    "\n",
    "- and => If both are TRUE, result TRUE. Otherwise result FALSE\n",
    "- or  => If both are FALSE, result FALSE. Otherwise result TRUE"
   ]
  },
  {
   "cell_type": "code",
   "execution_count": null,
   "metadata": {},
   "outputs": [],
   "source": [
    "# and comparision operator\n",
    "print( 5>3 and 6>3 ) # T and T\n",
    "print( 5>3 and 6<3 ) # T and F\n",
    "print( 5<3 and 6>3 ) # F and T\n",
    "print( 5<3 and 6<3 ) # F and F"
   ]
  },
  {
   "cell_type": "code",
   "execution_count": null,
   "metadata": {
    "scrolled": true
   },
   "outputs": [],
   "source": [
    "# or comparision operator\n",
    "print( 5>3 or 6>3 ) # T or T\n",
    "print( 5>3 or 6<3 ) # T or F\n",
    "print( 5<3 or 6>3 ) # F or T\n",
    "print( 5<3 or 6<3 ) # F or F"
   ]
  },
  {
   "cell_type": "markdown",
   "metadata": {},
   "source": [
    "# Conditional Statements\n",
    "\n",
    "- if\n",
    "- elif\n",
    "- else"
   ]
  },
  {
   "cell_type": "code",
   "execution_count": null,
   "metadata": {},
   "outputs": [],
   "source": [
    "#Example\n",
    "\n",
    "a = 10\n",
    "\n",
    "if(a > 0):\n",
    "    print('POSITIVE')\n",
    "elif(a == 0):\n",
    "    print('ZERO')\n",
    "else:\n",
    "    print('NEGATIVE')"
   ]
  },
  {
   "cell_type": "markdown",
   "metadata": {},
   "source": [
    "# Data Objects\n",
    "- List = [ ]\n",
    "- Tuples = ( )\n",
    "- Strings = \" \"\n",
    "- Dictionaries = { }\n",
    "- sets = { }"
   ]
  },
  {
   "cell_type": "markdown",
   "metadata": {},
   "source": [
    "# List\n",
    "\n",
    "List are very flexible and can hold completely heterogeneous data and they can manipulated very efficiently.\n",
    "- extend(VALUES) => insert multiple element end of the list\n",
    "- append(VALUE) => insert single element end of the list\n",
    "- count(VALUE)  => count duplicate values\n",
    "- remove(VALUE) => remove single element, find from 0th index\n",
    "- pop(INDEX) => remove passed INDEX element\n",
    "- copy() => copy list\n",
    "- clear() => empty the list\n",
    "- index(VALUE) => found the index of value\n",
    "- reverse() => reverse the list\n",
    "- sort() => sort list, it works only similar datatypes\n",
    "- insert(INDEX,VALUE) => insert specific value into mentioned index\n",
    "- len(LIST) => find length of list\n",
    "- list(ANY_OTHER_OBJECTS) => Type casting, can able to change tuple,dictionary,set to list"
   ]
  },
  {
   "cell_type": "code",
   "execution_count": null,
   "metadata": {},
   "outputs": [],
   "source": [
    "myList = [2, 2.5, True, 'string', [1,2,3,4,5],{a:1, b:1},(1,2,3)]"
   ]
  },
  {
   "cell_type": "code",
   "execution_count": null,
   "metadata": {},
   "outputs": [],
   "source": [
    "myList.extend([-2.5, -8])"
   ]
  },
  {
   "cell_type": "code",
   "execution_count": null,
   "metadata": {},
   "outputs": [],
   "source": [
    "myList.append(False)"
   ]
  },
  {
   "cell_type": "code",
   "execution_count": null,
   "metadata": {},
   "outputs": [],
   "source": [
    "myList.count(-8) "
   ]
  },
  {
   "cell_type": "code",
   "execution_count": null,
   "metadata": {},
   "outputs": [],
   "source": [
    "myList.remove(-2.5)"
   ]
  },
  {
   "cell_type": "code",
   "execution_count": null,
   "metadata": {},
   "outputs": [],
   "source": [
    "myList.pop(0)"
   ]
  },
  {
   "cell_type": "code",
   "execution_count": null,
   "metadata": {},
   "outputs": [],
   "source": [
    "newList = myList.copy()"
   ]
  },
  {
   "cell_type": "code",
   "execution_count": null,
   "metadata": {},
   "outputs": [],
   "source": [
    "newList.clear()"
   ]
  },
  {
   "cell_type": "code",
   "execution_count": null,
   "metadata": {},
   "outputs": [],
   "source": [
    "myList.index(2)"
   ]
  },
  {
   "cell_type": "code",
   "execution_count": null,
   "metadata": {},
   "outputs": [],
   "source": [
    "myList.reverse()"
   ]
  },
  {
   "cell_type": "code",
   "execution_count": null,
   "metadata": {},
   "outputs": [],
   "source": [
    "# number sort\n",
    "numList = [6,9,2,4,0,1,7,3]\n",
    "numList.sort()\n",
    "print(numList)\n",
    "\n",
    "# string sort\n",
    "strList = ['a','z','b','y']\n",
    "strList.sort()\n",
    "print(strList)"
   ]
  },
  {
   "cell_type": "code",
   "execution_count": null,
   "metadata": {},
   "outputs": [],
   "source": [
    "numList.insert(1, 4)\n",
    "numList"
   ]
  },
  {
   "cell_type": "code",
   "execution_count": null,
   "metadata": {},
   "outputs": [],
   "source": [
    "len(numList)"
   ]
  },
  {
   "cell_type": "code",
   "execution_count": null,
   "metadata": {},
   "outputs": [],
   "source": [
    "b = (3,4,5) #tuple\n",
    "a = list(b)\n",
    "a"
   ]
  },
  {
   "cell_type": "markdown",
   "metadata": {},
   "source": [
    "# Tuples\n",
    "\n",
    "Tuples is a sequence of objects, which is immutable\n",
    "- len(TUPLE) => find length of Tuple\n",
    "- tuple(ANY_OTHER_OBJECTS) => typecasting can able to change list,dictionary,set to tuple\n",
    "- count(VALUE) => count duplicate values\n",
    "- index(VALUE) => found the index of value"
   ]
  },
  {
   "cell_type": "code",
   "execution_count": null,
   "metadata": {},
   "outputs": [],
   "source": [
    "myTuples = (1,0.2,-5,True,False,[1,2,3],'string')"
   ]
  },
  {
   "cell_type": "code",
   "execution_count": null,
   "metadata": {},
   "outputs": [],
   "source": [
    "len(myTuples)"
   ]
  },
  {
   "cell_type": "code",
   "execution_count": null,
   "metadata": {},
   "outputs": [],
   "source": [
    "newTuple = tuple(numList) #numList is list"
   ]
  },
  {
   "cell_type": "code",
   "execution_count": null,
   "metadata": {
    "scrolled": true
   },
   "outputs": [],
   "source": [
    "newTuple.count(0)"
   ]
  },
  {
   "cell_type": "code",
   "execution_count": null,
   "metadata": {},
   "outputs": [],
   "source": [
    "newTuple.index(1)"
   ]
  },
  {
   "cell_type": "markdown",
   "metadata": {},
   "source": [
    "# Strings\n",
    "\n",
    "str[STARTINDEX : ENDINDEX]\n",
    "\n",
    "- start index may be a postive or negative value\n",
    "    - if positive value, taken from 0th index,\n",
    "    - if negative value, taken form last index\n",
    "- end index may be a postive or negative value\n",
    "    - if positive value, taken from last index\n",
    "    - in negative value, taken from 0th index"
   ]
  },
  {
   "cell_type": "code",
   "execution_count": null,
   "metadata": {},
   "outputs": [],
   "source": [
    "myString = \"Have a nice day\" "
   ]
  },
  {
   "cell_type": "code",
   "execution_count": null,
   "metadata": {},
   "outputs": [],
   "source": [
    "myString[7:]"
   ]
  },
  {
   "cell_type": "code",
   "execution_count": null,
   "metadata": {},
   "outputs": [],
   "source": [
    "myString[:6]"
   ]
  },
  {
   "cell_type": "code",
   "execution_count": null,
   "metadata": {},
   "outputs": [],
   "source": [
    "myString[7:10]"
   ]
  },
  {
   "cell_type": "code",
   "execution_count": null,
   "metadata": {},
   "outputs": [],
   "source": [
    "myString[-8:-1]"
   ]
  },
  {
   "cell_type": "markdown",
   "metadata": {},
   "source": [
    "# Dictionaries\n",
    "\n",
    "- dict() => type casting\n",
    "- copy() => copy dictionary\n",
    "- get(KEY) => get key value\n",
    "- items() => give result as a set of each key and value. like (key, value), (key,value)\n",
    "- keys() => get all keys only\n",
    "- values() => get all values only\n",
    "- pop(KEY) => remove passed KEY element\n",
    "- popitem() => remove last key and value\n",
    "- update(VALUES) => add multiple values"
   ]
  },
  {
   "cell_type": "code",
   "execution_count": null,
   "metadata": {},
   "outputs": [],
   "source": [
    "myDictionary = {'name':'muthu', 'age':24, 'email':'pearlpandzz@gmail.com'}\n",
    "myDictionary"
   ]
  },
  {
   "cell_type": "code",
   "execution_count": null,
   "metadata": {},
   "outputs": [],
   "source": [
    "myDictionary['name']"
   ]
  },
  {
   "cell_type": "code",
   "execution_count": null,
   "metadata": {},
   "outputs": [],
   "source": [
    "myDictionary['name'] = 'muthupandi'\n",
    "myDictionary"
   ]
  },
  {
   "cell_type": "code",
   "execution_count": null,
   "metadata": {},
   "outputs": [],
   "source": [
    "userInfo = dict(name=\"pandi\", age=24, email=\"pearlpandzz@gmail.com\")"
   ]
  },
  {
   "cell_type": "code",
   "execution_count": null,
   "metadata": {},
   "outputs": [],
   "source": [
    "newUser = userInfo.copy()"
   ]
  },
  {
   "cell_type": "code",
   "execution_count": null,
   "metadata": {},
   "outputs": [],
   "source": [
    "userInfo.get('name')"
   ]
  },
  {
   "cell_type": "code",
   "execution_count": null,
   "metadata": {},
   "outputs": [],
   "source": [
    "userInfo.items()"
   ]
  },
  {
   "cell_type": "code",
   "execution_count": null,
   "metadata": {},
   "outputs": [],
   "source": [
    "userInfo.keys()"
   ]
  },
  {
   "cell_type": "code",
   "execution_count": null,
   "metadata": {
    "scrolled": true
   },
   "outputs": [],
   "source": [
    "userInfo.pop('age')"
   ]
  },
  {
   "cell_type": "code",
   "execution_count": null,
   "metadata": {},
   "outputs": [],
   "source": [
    "userInfo.popitem()"
   ]
  },
  {
   "cell_type": "code",
   "execution_count": null,
   "metadata": {},
   "outputs": [],
   "source": [
    "userInfo.values()"
   ]
  },
  {
   "cell_type": "code",
   "execution_count": null,
   "metadata": {},
   "outputs": [],
   "source": [
    "userInfo.update({'name' : 'muthupandi', 'age':24, 'email':'pearlpandzz@gmail.com'})"
   ]
  },
  {
   "cell_type": "markdown",
   "metadata": {},
   "source": [
    "# Sets\n",
    "\n",
    "A Set contains an unordered collection of uniques and immutable objects.\n",
    "- union\n",
    "- intersection"
   ]
  },
  {
   "cell_type": "code",
   "execution_count": null,
   "metadata": {},
   "outputs": [],
   "source": [
    "family = {\"arun\",\"guna\",\"suganya\"}\n",
    "friends = {\"arun\",\"venkat\",\"guna\",\"santy\",\"mangu\"}"
   ]
  },
  {
   "cell_type": "code",
   "execution_count": null,
   "metadata": {},
   "outputs": [],
   "source": [
    "friends.union(family)"
   ]
  },
  {
   "cell_type": "code",
   "execution_count": null,
   "metadata": {},
   "outputs": [],
   "source": [
    "friends.intersection(family)"
   ]
  },
  {
   "cell_type": "markdown",
   "metadata": {},
   "source": [
    "# Function\n",
    "\n",
    "Function used for do the repitative excecutions. \"def\" is a keyword to define the function."
   ]
  },
  {
   "cell_type": "code",
   "execution_count": null,
   "metadata": {},
   "outputs": [],
   "source": [
    "# example function\n",
    "\n",
    "def isEven(x):\n",
    "    if (x%2) == 0:\n",
    "        return True;\n",
    "    else:\n",
    "        return False;\n",
    "\n",
    "isEven(10)"
   ]
  },
  {
   "cell_type": "markdown",
   "metadata": {},
   "source": [
    "# Loops\n",
    "\n",
    "Loop means iteratable things"
   ]
  },
  {
   "cell_type": "code",
   "execution_count": null,
   "metadata": {},
   "outputs": [],
   "source": [
    "technologies = ['machin learning','artificial intelligence','cryptocurrency','digital marketing']\n",
    "for tech in technologies:\n",
    "    print(tech + \" has \" + str(len(tech)) + \" characters,\" )"
   ]
  }
 ],
 "metadata": {
  "kernelspec": {
   "display_name": "Python 3",
   "language": "python",
   "name": "python3"
  },
  "language_info": {
   "codemirror_mode": {
    "name": "ipython",
    "version": 3
   },
   "file_extension": ".py",
   "mimetype": "text/x-python",
   "name": "python",
   "nbconvert_exporter": "python",
   "pygments_lexer": "ipython3",
   "version": "3.7.3"
  }
 },
 "nbformat": 4,
 "nbformat_minor": 2
}
