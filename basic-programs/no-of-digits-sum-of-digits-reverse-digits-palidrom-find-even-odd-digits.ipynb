{
 "cells": [
  {
   "cell_type": "code",
   "execution_count": 27,
   "metadata": {},
   "outputs": [],
   "source": [
    "def reverseNumber(n):\n",
    "    revNumber = 0\n",
    "    noOfDigits = 0\n",
    "    even = []\n",
    "    odd = []\n",
    "    sumOfDigits = 0\n",
    "    while(n>0):\n",
    "        temp = n%10\n",
    "        revNumber = revNumber*10+temp\n",
    "        n=n//10\n",
    "        noOfDigits += 1\n",
    "        sumOfDigits = sumOfDigits + temp; \n",
    "        if (temp%2==0):\n",
    "            even.append(temp)\n",
    "        if (temp%2==1):\n",
    "            odd.append(temp)\n",
    "    return revNumber, noOfDigits, even[::-1], odd[::-1], sumOfDigits"
   ]
  },
  {
   "cell_type": "code",
   "execution_count": 28,
   "metadata": {},
   "outputs": [
    {
     "name": "stdout",
     "output_type": "stream",
     "text": [
      "Enter number:12321\n",
      "Reversed number:12321\n",
      "No.of.digits: 5\n",
      "Even Numbers: [2, 2]\n",
      "Odd Numbers: [1, 3, 1]\n",
      "Sum.of.digits: 9\n",
      "Palindrom or Not? True Palindrom\n"
     ]
    }
   ],
   "source": [
    "n = int(input('Enter number:'))\n",
    "palindrom = False\n",
    "a, b, c, d, e = reverseNumber(n)\n",
    "if(n==a):\n",
    "    palindrom = True\n",
    "print(f'Reversed number:{a}')\n",
    "print(f'No.of.digits: {b}')\n",
    "print(f'Even Numbers: {c}')\n",
    "print(f'Odd Numbers: {d}')\n",
    "print(f'Sum.of.digits: {e}')\n",
    "print(f\"Palindrom or Not? {palindrom} Palindrom\")"
   ]
  }
 ],
 "metadata": {
  "kernelspec": {
   "display_name": "Python 3",
   "language": "python",
   "name": "python3"
  },
  "language_info": {
   "codemirror_mode": {
    "name": "ipython",
    "version": 3
   },
   "file_extension": ".py",
   "mimetype": "text/x-python",
   "name": "python",
   "nbconvert_exporter": "python",
   "pygments_lexer": "ipython3",
   "version": "3.7.3"
  }
 },
 "nbformat": 4,
 "nbformat_minor": 2
}
