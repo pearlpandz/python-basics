{
 "cells": [
  {
   "cell_type": "code",
   "execution_count": null,
   "metadata": {},
   "outputs": [],
   "source": [
    "# this function return fibonacci series maximum 100\n",
    "def fibonacci(count):\n",
    "    n1 = 0\n",
    "    n2 = 1\n",
    "    temp_count = 0\n",
    "    fibonacciArr = [0,1]\n",
    "    fibonacci = 0\n",
    "    while temp_count < count-2:    \n",
    "        fibonacci = n1 + n2\n",
    "        if fibonacci > count:\n",
    "            return fibonacciArr\n",
    "        else:\n",
    "            fibonacciArr.append(fibonacci)\n",
    "            n1 = n2\n",
    "            n2 = fibonacci\n",
    "            temp_count += 1\n",
    "    return fibonacciArr"
   ]
  },
  {
   "cell_type": "code",
   "execution_count": 3,
   "metadata": {},
   "outputs": [
    {
     "name": "stdout",
     "output_type": "stream",
     "text": [
      "print maximum value of fibonacci:10\n"
     ]
    },
    {
     "data": {
      "text/plain": [
       "[0, 1, 1, 2, 3, 5, 8]"
      ]
     },
     "execution_count": 3,
     "metadata": {},
     "output_type": "execute_result"
    }
   ],
   "source": [
    "number = int(input('print maximum value of fibonacci:'))\n",
    "fibonacci(number)"
   ]
  },
  {
   "cell_type": "code",
   "execution_count": null,
   "metadata": {},
   "outputs": [],
   "source": []
  }
 ],
 "metadata": {
  "kernelspec": {
   "display_name": "Python 3",
   "language": "python",
   "name": "python3"
  },
  "language_info": {
   "codemirror_mode": {
    "name": "ipython",
    "version": 3
   },
   "file_extension": ".py",
   "mimetype": "text/x-python",
   "name": "python",
   "nbconvert_exporter": "python",
   "pygments_lexer": "ipython3",
   "version": "3.7.3"
  }
 },
 "nbformat": 4,
 "nbformat_minor": 2
}
