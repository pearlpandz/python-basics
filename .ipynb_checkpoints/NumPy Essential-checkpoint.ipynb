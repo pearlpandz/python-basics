{
 "cells": [
  {
   "cell_type": "markdown",
   "metadata": {},
   "source": [
    "# NumPy Library\n",
    "\n",
    "NumPy works with array, like \n",
    "- single \n",
    "- multi-dimensional arrays\n",
    "\n",
    "\n",
    "\n",
    "NumPy features\n",
    "- np.array([ARRAY_ELEMENTS],[ARRAY_ELEMENTS])\n",
    "- np.concatenate((ARRAY1,ARRAY2),axis=1/0) => if axis 0 means vertical joining, else axis 1 means horizontal joining\n",
    "- ARRAY.arange(2,10, 3) => create \"Starting value is 2, Ending value is 9, Iterator is 3\", totally create 8 elements array\n",
    "- ARRAY.ndim => to find dimensional of numpy array\n",
    "- ARRAY.shape(ROW,COLUMN) => to create 2dimensional array\n",
    "- np.zeros( (ROW,COLUMN), dtype=int) => to create zero matrix with ROW, COLUMN\n",
    "- np.hstack(ARRAY1,ARRAY2) => to merge horizontally two dimensional arrays\n",
    "- np.vstack(ARRAY1,ARRAY2) => to merge vertically two dimensional arrays\n",
    "- np.random(10) => create 10 random number\n",
    "- np.split(ARRAY, 2) => split into 2parts of ARRAY in horizontally\n",
    "- np.hsplit(ARRAY,2) => split into 2parts of ARRAY in horizontally\n",
    "- np.Vsplit(ARRAY,2) => split into 2parts of ARRAY in vertically\n",
    "- ARRAY.copy(NUMPYARRAY)\n",
    "- ARRAY.sum(axis=0) => if axis=0 sum of row values, elif axis=1 sum of column values \n",
    "- np.sqrt(ARRAY) => to find a squre root of array\n",
    "- np.std(ARRAY) => to find a standard deviation of array\n",
    "- np.isnan(ARRAY).sum() => to find sum of missing values count\n",
    "- np.argwhere(np.isnan(ARRAY)) => to find exact (ROW,COLUMN) of missing values\n",
    "- np.where(np.isnan(ARRAY)) => to find nan value array indexes, laterly we can use this to replace exact values\n",
    "- ARRAY.flatten() => to convert 2-d array into 1-d horizontal array\n",
    "- ARRAY.transpose() => to convert rows all to column, columns all to rows"
   ]
  },
  {
   "cell_type": "code",
   "execution_count": 309,
   "metadata": {
    "scrolled": true
   },
   "outputs": [],
   "source": [
    "# import \n",
    "import numpy as np"
   ]
  },
  {
   "cell_type": "code",
   "execution_count": 310,
   "metadata": {
    "scrolled": true
   },
   "outputs": [],
   "source": [
    "# statically created 1-d array\n",
    "a = np.array([1,2,3,4,5,6,])"
   ]
  },
  {
   "cell_type": "code",
   "execution_count": 311,
   "metadata": {
    "scrolled": true
   },
   "outputs": [],
   "source": [
    "# dynamically created 1-d array with help of arange(n)\n",
    "b = np.arange(10)"
   ]
  },
  {
   "cell_type": "code",
   "execution_count": 312,
   "metadata": {
    "scrolled": true
   },
   "outputs": [
    {
     "data": {
      "text/plain": [
       "1"
      ]
     },
     "execution_count": 312,
     "metadata": {},
     "output_type": "execute_result"
    }
   ],
   "source": [
    "# find array dimension? \n",
    "b.ndim"
   ]
  },
  {
   "cell_type": "code",
   "execution_count": 313,
   "metadata": {
    "scrolled": true
   },
   "outputs": [],
   "source": [
    "# create array using arange, and reshape it to 2-dimensional array\n",
    "d = np.arange(24).reshape(6,4)\n",
    "d"
   ]
  },
  {
   "cell_type": "code",
   "execution_count": 314,
   "metadata": {
    "scrolled": true
   },
   "outputs": [],
   "source": [
    "# creating of zero arrays\n",
    "e = np.zeros((6,2))\n",
    "print(e)\n",
    "\n",
    "f = np.zeros((2,4))\n",
    "print(f)"
   ]
  },
  {
   "cell_type": "code",
   "execution_count": 315,
   "metadata": {
    "scrolled": true
   },
   "outputs": [
    {
     "data": {
      "text/plain": [
       "array([[ 0.,  1.,  2.,  3.,  0.,  0.],\n",
       "       [ 4.,  5.,  6.,  7.,  0.,  0.],\n",
       "       [ 8.,  9., 10., 11.,  0.,  0.],\n",
       "       [12., 13., 14., 15.,  0.,  0.],\n",
       "       [16., 17., 18., 19.,  0.,  0.],\n",
       "       [20., 21., 22., 23.,  0.,  0.]])"
      ]
     },
     "execution_count": 315,
     "metadata": {},
     "output_type": "execute_result"
    }
   ],
   "source": [
    "# hstack of d & e arrays\n",
    "np.hstack((d,e))"
   ]
  },
  {
   "cell_type": "code",
   "execution_count": 316,
   "metadata": {
    "scrolled": true
   },
   "outputs": [
    {
     "data": {
      "text/plain": [
       "array([[ 0.,  1.,  2.,  3.],\n",
       "       [ 4.,  5.,  6.,  7.],\n",
       "       [ 8.,  9., 10., 11.],\n",
       "       [12., 13., 14., 15.],\n",
       "       [16., 17., 18., 19.],\n",
       "       [20., 21., 22., 23.],\n",
       "       [ 0.,  0.,  0.,  0.],\n",
       "       [ 0.,  0.,  0.,  0.]])"
      ]
     },
     "execution_count": 316,
     "metadata": {},
     "output_type": "execute_result"
    }
   ],
   "source": [
    "# vstack of d & e arrays\n",
    "np.vstack((d,f))"
   ]
  },
  {
   "cell_type": "code",
   "execution_count": 317,
   "metadata": {
    "scrolled": true
   },
   "outputs": [
    {
     "data": {
      "text/plain": [
       "71"
      ]
     },
     "execution_count": 317,
     "metadata": {},
     "output_type": "execute_result"
    }
   ],
   "source": [
    "#randomly generated integer value between (0,100)\n",
    "int(np.floor(100*np.random.random())) "
   ]
  },
  {
   "cell_type": "code",
   "execution_count": 318,
   "metadata": {
    "scrolled": true
   },
   "outputs": [
    {
     "data": {
      "text/plain": [
       "[array([[0., 0.],\n",
       "        [0., 0.]]), array([[0., 0.],\n",
       "        [0., 0.]])]"
      ]
     },
     "execution_count": 318,
     "metadata": {},
     "output_type": "execute_result"
    }
   ],
   "source": [
    "#split the two dimentional array into two parts in horizontally\n",
    "np.hsplit(f,2) "
   ]
  },
  {
   "cell_type": "code",
   "execution_count": 319,
   "metadata": {
    "scrolled": true
   },
   "outputs": [
    {
     "data": {
      "text/plain": [
       "[array([[0., 0.],\n",
       "        [0., 0.]]), array([[0., 0.],\n",
       "        [0., 0.]]), array([[0., 0.],\n",
       "        [0., 0.]])]"
      ]
     },
     "execution_count": 319,
     "metadata": {},
     "output_type": "execute_result"
    }
   ],
   "source": [
    "#split the two dimentional array into three parts in vertically\n",
    "np.vsplit(e,3)"
   ]
  },
  {
   "cell_type": "code",
   "execution_count": 320,
   "metadata": {
    "scrolled": true
   },
   "outputs": [],
   "source": [
    "#copy of array\n",
    "g = f.copy()\n",
    "g"
   ]
  },
  {
   "cell_type": "code",
   "execution_count": 321,
   "metadata": {},
   "outputs": [
    {
     "name": "stdout",
     "output_type": "stream",
     "text": [
      "sum of row => [60 66 72 78]\n",
      "sum of column => [ 6 22 38 54 70 86]\n"
     ]
    }
   ],
   "source": [
    "# sum of row & column\n",
    "print('sum of row =>', d.sum(axis=0))\n",
    "print('sum of column =>', d.sum(axis=1))"
   ]
  },
  {
   "cell_type": "code",
   "execution_count": 322,
   "metadata": {},
   "outputs": [
    {
     "data": {
      "text/plain": [
       "array([[0.        , 1.        , 1.41421356, 1.73205081],\n",
       "       [2.        , 2.23606798, 2.44948974, 2.64575131],\n",
       "       [2.82842712, 3.        , 3.16227766, 3.31662479],\n",
       "       [3.46410162, 3.60555128, 3.74165739, 3.87298335],\n",
       "       [4.        , 4.12310563, 4.24264069, 4.35889894],\n",
       "       [4.47213595, 4.58257569, 4.69041576, 4.79583152]])"
      ]
     },
     "execution_count": 322,
     "metadata": {},
     "output_type": "execute_result"
    }
   ],
   "source": [
    "# squre root of array\n",
    "np.sqrt(d)"
   ]
  },
  {
   "cell_type": "code",
   "execution_count": 323,
   "metadata": {},
   "outputs": [
    {
     "data": {
      "text/plain": [
       "6.922186552431729"
      ]
     },
     "execution_count": 323,
     "metadata": {},
     "output_type": "execute_result"
    }
   ],
   "source": [
    "# standard deviation\n",
    "np.std(d)"
   ]
  },
  {
   "cell_type": "code",
   "execution_count": 324,
   "metadata": {},
   "outputs": [
    {
     "data": {
      "text/plain": [
       "array([ 0,  1,  2,  3,  4,  5,  6,  7,  8,  9, 10, 11, 12, 13, 14, 15, 16,\n",
       "       17, 18, 19, 20, 21, 22, 23])"
      ]
     },
     "execution_count": 324,
     "metadata": {},
     "output_type": "execute_result"
    }
   ],
   "source": [
    "# ravel => convert from 2-d to 1-d array\n",
    "d.ravel()"
   ]
  },
  {
   "cell_type": "code",
   "execution_count": 325,
   "metadata": {},
   "outputs": [
    {
     "name": "stdout",
     "output_type": "stream",
     "text": [
      "[[0.         0.30103   ]\n",
      " [0.47712125 0.60205999]]\n"
     ]
    }
   ],
   "source": [
    "g = np.array([[1,2],[3,4]]) # non-zero array\n",
    "\n",
    "# log of 10\n",
    "print(np.log10(g))"
   ]
  },
  {
   "cell_type": "code",
   "execution_count": 326,
   "metadata": {},
   "outputs": [
    {
     "name": "stdout",
     "output_type": "stream",
     "text": [
      "6\n",
      "[[0 1]\n",
      " [1 0]\n",
      " [2 1]\n",
      " [3 0]\n",
      " [4 1]\n",
      " [5 0]]\n",
      "(array([0, 1, 2, 3, 4, 5], dtype=int64), array([1, 0, 1, 0, 1, 0], dtype=int64))\n"
     ]
    }
   ],
   "source": [
    "# find nan and empty values count and that exact indexes\n",
    "\n",
    "e[1::2 ,  ::2] = np.nan\n",
    "e[ ::2 , 1::2] = np.nan\n",
    "# print(e)\n",
    "print(np.isnan(e).sum())\n",
    "print(np.argwhere(np.isnan(e)))\n",
    "print(np.where(np.isnan(e)))"
   ]
  },
  {
   "cell_type": "code",
   "execution_count": 327,
   "metadata": {},
   "outputs": [
    {
     "data": {
      "text/plain": [
       "array([ 0., nan, nan,  0.,  0., nan, nan,  0.,  0., nan, nan,  0.])"
      ]
     },
     "execution_count": 327,
     "metadata": {},
     "output_type": "execute_result"
    }
   ],
   "source": [
    "e.flatten()"
   ]
  },
  {
   "cell_type": "code",
   "execution_count": 328,
   "metadata": {},
   "outputs": [
    {
     "data": {
      "text/plain": [
       "array([[ 0., nan,  0., nan,  0., nan],\n",
       "       [nan,  0., nan,  0., nan,  0.]])"
      ]
     },
     "execution_count": 328,
     "metadata": {},
     "output_type": "execute_result"
    }
   ],
   "source": [
    "e.transpose()"
   ]
  },
  {
   "cell_type": "code",
   "execution_count": 329,
   "metadata": {},
   "outputs": [
    {
     "data": {
      "text/plain": [
       "6.0"
      ]
     },
     "execution_count": 329,
     "metadata": {},
     "output_type": "execute_result"
    }
   ],
   "source": [
    "np.ceil(5.9)"
   ]
  }
 ],
 "metadata": {
  "kernelspec": {
   "display_name": "Python 3",
   "language": "python",
   "name": "python3"
  },
  "language_info": {
   "codemirror_mode": {
    "name": "ipython",
    "version": 3
   },
   "file_extension": ".py",
   "mimetype": "text/x-python",
   "name": "python",
   "nbconvert_exporter": "python",
   "pygments_lexer": "ipython3",
   "version": "3.7.3"
  }
 },
 "nbformat": 4,
 "nbformat_minor": 2
}
