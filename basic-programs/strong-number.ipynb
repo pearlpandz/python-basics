{
 "cells": [
  {
   "cell_type": "code",
   "execution_count": 20,
   "metadata": {},
   "outputs": [],
   "source": [
    "# Strong Number means a number should equal to sum of factorial of digits of a number\n",
    "\n",
    "def isStrongNumber(n):\n",
    "    sumOfFactorial = 0\n",
    "    while n>0:\n",
    "        temp = n%10\n",
    "        sumOfFactorial = sumOfFactorial + factorial(temp)\n",
    "        n= n//10\n",
    "    return sumOfFactorial"
   ]
  },
  {
   "cell_type": "code",
   "execution_count": 22,
   "metadata": {},
   "outputs": [],
   "source": [
    "def factorial(n):\n",
    "    return 1 if (n==1 or n==0) else n*factorial(n-1)"
   ]
  },
  {
   "cell_type": "code",
   "execution_count": 26,
   "metadata": {},
   "outputs": [
    {
     "name": "stdout",
     "output_type": "stream",
     "text": [
      "Are you want to check strong number or not? Enter Number:124\n",
      "Not a strong Number\n"
     ]
    }
   ],
   "source": [
    "number = int(input('Are you want to check strong number or not? Enter Number:'))\n",
    "strongNumber = isStrongNumber(number)\n",
    "if number==strongNumber:\n",
    "    print('Strong Number')\n",
    "else: \n",
    "    print('Not a strong Number')"
   ]
  }
 ],
 "metadata": {
  "kernelspec": {
   "display_name": "Python 3",
   "language": "python",
   "name": "python3"
  },
  "language_info": {
   "codemirror_mode": {
    "name": "ipython",
    "version": 3
   },
   "file_extension": ".py",
   "mimetype": "text/x-python",
   "name": "python",
   "nbconvert_exporter": "python",
   "pygments_lexer": "ipython3",
   "version": "3.7.3"
  }
 },
 "nbformat": 4,
 "nbformat_minor": 2
}
