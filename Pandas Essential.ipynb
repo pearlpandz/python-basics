{
 "cells": [
  {
   "cell_type": "markdown",
   "metadata": {},
   "source": [
    "# Pandas : Panel Data"
   ]
  },
  {
   "cell_type": "code",
   "execution_count": null,
   "metadata": {},
   "outputs": [],
   "source": [
    "# import section\n",
    "import numpy as np\n",
    "import pandas as pd\n",
    "from pandas import Series, DataFrame"
   ]
  },
  {
   "cell_type": "markdown",
   "metadata": {},
   "source": [
    "# Series\n",
    "\n",
    "Series is a single(one) column DataFrame."
   ]
  },
  {
   "cell_type": "code",
   "execution_count": null,
   "metadata": {},
   "outputs": [],
   "source": [
    "# create one series with help of numpy arange method\n",
    "seriesObj1 = Series( np.arange(3) )"
   ]
  },
  {
   "cell_type": "code",
   "execution_count": null,
   "metadata": {},
   "outputs": [],
   "source": [
    "# index customization\n",
    "seriesObj2 = Series( np.arange(3), index=['row1','row2','row3'] )\n",
    "seriesObj2"
   ]
  },
  {
   "cell_type": "code",
   "execution_count": null,
   "metadata": {
    "scrolled": true
   },
   "outputs": [],
   "source": [
    "# Selecting and Retriving Data from Series Object\n",
    "\n",
    "print( seriesObj2[2] ) # selecting by Index\n",
    "print( seriesObj2['row3'] ) # selecting by row name\n",
    "print( seriesObj2[1:3] ) # selecting by range"
   ]
  },
  {
   "cell_type": "markdown",
   "metadata": {},
   "source": [
    "# DataFrame\n",
    "\n",
    "DataFrame is a 2-d dataset, which also like as a datasheet like., csv, Excel\n",
    "\n",
    "- DataFrame(DATA_MATRIX, INDEX, COLUMNS)\n",
    "- iloc[ START_INDEX_ROW:END_INDEX_ROW , START_INDEX_COL:END_INDEX_COL ]\n",
    "- loc['ROW_NAME','COLUMN_NAME']"
   ]
  },
  {
   "cell_type": "code",
   "execution_count": null,
   "metadata": {},
   "outputs": [],
   "source": [
    "# define index and column names\n",
    "index = ['row1','row2','row3','row4','row5','row6']\n",
    "columns = ['col1','col2','col3','col4','col5','col6']"
   ]
  },
  {
   "cell_type": "code",
   "execution_count": null,
   "metadata": {},
   "outputs": [],
   "source": [
    "# dataframe create\n",
    "dF = DataFrame(np.ceil(np.random.rand(36)*100).reshape(6,6), index=index, columns=columns)"
   ]
  },
  {
   "cell_type": "code",
   "execution_count": null,
   "metadata": {},
   "outputs": [],
   "source": [
    "# selecting data by range\n",
    "dF.iloc[ 1:5 , 2:6 ]"
   ]
  },
  {
   "cell_type": "code",
   "execution_count": null,
   "metadata": {},
   "outputs": [],
   "source": [
    "#selecting data by row & column names\n",
    "dF.loc[ ['row1','row5'] , ['col2','col6'] ]"
   ]
  }
 ],
 "metadata": {
  "kernelspec": {
   "display_name": "Python 3",
   "language": "python",
   "name": "python3"
  },
  "language_info": {
   "codemirror_mode": {
    "name": "ipython",
    "version": 3
   },
   "file_extension": ".py",
   "mimetype": "text/x-python",
   "name": "python",
   "nbconvert_exporter": "python",
   "pygments_lexer": "ipython3",
   "version": "3.7.3"
  }
 },
 "nbformat": 4,
 "nbformat_minor": 2
}
