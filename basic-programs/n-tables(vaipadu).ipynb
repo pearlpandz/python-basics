{
 "cells": [
  {
   "cell_type": "code",
   "execution_count": 4,
   "metadata": {},
   "outputs": [],
   "source": [
    "def vaipadu(n,limit):\n",
    "    for i in range(1,limit+1):\n",
    "        print(i,'X',n,'=',i*n)"
   ]
  },
  {
   "cell_type": "code",
   "execution_count": 7,
   "metadata": {},
   "outputs": [
    {
     "name": "stdout",
     "output_type": "stream",
     "text": [
      "1 X 16 = 16\n",
      "2 X 16 = 32\n",
      "3 X 16 = 48\n",
      "4 X 16 = 64\n",
      "5 X 16 = 80\n",
      "6 X 16 = 96\n",
      "7 X 16 = 112\n",
      "8 X 16 = 128\n",
      "9 X 16 = 144\n",
      "10 X 16 = 160\n",
      "11 X 16 = 176\n",
      "12 X 16 = 192\n",
      "13 X 16 = 208\n",
      "14 X 16 = 224\n",
      "15 X 16 = 240\n",
      "16 X 16 = 256\n"
     ]
    }
   ],
   "source": [
    "vaipadu(16,16)"
   ]
  }
 ],
 "metadata": {
  "kernelspec": {
   "display_name": "Python 3",
   "language": "python",
   "name": "python3"
  },
  "language_info": {
   "codemirror_mode": {
    "name": "ipython",
    "version": 3
   },
   "file_extension": ".py",
   "mimetype": "text/x-python",
   "name": "python",
   "nbconvert_exporter": "python",
   "pygments_lexer": "ipython3",
   "version": "3.7.3"
  }
 },
 "nbformat": 4,
 "nbformat_minor": 2
}
