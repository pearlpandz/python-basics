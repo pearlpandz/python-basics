{
 "cells": [
  {
   "cell_type": "code",
   "execution_count": 13,
   "metadata": {},
   "outputs": [],
   "source": [
    "def squrePattern(symbol, rows, columns):\n",
    "    for i in range(rows):\n",
    "        for j in range(columns):\n",
    "            print(symbol,' ',end=\"\")\n",
    "        print()"
   ]
  },
  {
   "cell_type": "code",
   "execution_count": 14,
   "metadata": {},
   "outputs": [],
   "source": [
    "def trianglePattern(symbol, rows):\n",
    "    for i in range(rows):\n",
    "        for j in range(i+1):\n",
    "            print(symbol,' ',end=\"\")\n",
    "        print()"
   ]
  },
  {
   "cell_type": "code",
   "execution_count": 15,
   "metadata": {},
   "outputs": [
    {
     "name": "stdout",
     "output_type": "stream",
     "text": [
      "please enter your symbol#\n",
      "how many rows you want? 7\n",
      "how many columns you want? 7\n",
      "#  #  #  #  #  #  #  \n",
      "#  #  #  #  #  #  #  \n",
      "#  #  #  #  #  #  #  \n",
      "#  #  #  #  #  #  #  \n",
      "#  #  #  #  #  #  #  \n",
      "#  #  #  #  #  #  #  \n",
      "#  #  #  #  #  #  #  \n"
     ]
    }
   ],
   "source": [
    "symbol = input('please enter your symbol')\n",
    "matrix_rows = int(input('how many rows you want? '))\n",
    "matrix_columns = int(input('how many columns you want? '))\n",
    "squrePattern(symbol, matrix_rows, matrix_columns)"
   ]
  }
 ],
 "metadata": {
  "kernelspec": {
   "display_name": "Python 3",
   "language": "python",
   "name": "python3"
  },
  "language_info": {
   "codemirror_mode": {
    "name": "ipython",
    "version": 3
   },
   "file_extension": ".py",
   "mimetype": "text/x-python",
   "name": "python",
   "nbconvert_exporter": "python",
   "pygments_lexer": "ipython3",
   "version": "3.7.3"
  }
 },
 "nbformat": 4,
 "nbformat_minor": 2
}
